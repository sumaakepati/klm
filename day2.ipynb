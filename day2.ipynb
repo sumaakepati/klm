{
 "cells": [
  {
   "cell_type": "markdown",
   "metadata": {},
   "source": [
    "# Today's Objective\n",
    "1. python statements\n",
    "2. Data types in python\n",
    "    1.String\n",
    "    2.Integer\n",
    "    3. float\n",
    "3. Getting input from user or dynamic input\n",
    "4. Keywords in python\n",
    "5. Operators\n",
    "    "
   ]
  },
  {
   "cell_type": "code",
   "execution_count": 1,
   "metadata": {},
   "outputs": [
    {
     "ename": "SyntaxError",
     "evalue": "cannot assign to operator (<ipython-input-1-62ec50f18644>, line 3)",
     "output_type": "error",
     "traceback": [
      "\u001b[1;36m  File \u001b[1;32m\"<ipython-input-1-62ec50f18644>\"\u001b[1;36m, line \u001b[1;32m3\u001b[0m\n\u001b[1;33m    my-input=input(\"Enter the Greeting to Your friend\")\u001b[0m\n\u001b[1;37m    ^\u001b[0m\n\u001b[1;31mSyntaxError\u001b[0m\u001b[1;31m:\u001b[0m cannot assign to operator\n"
     ]
    }
   ],
   "source": [
    "#Getting Input from user or dynamic input\n",
    "# input\n",
    "my-input=input(\"Enter the Greeting to Your friend\")\n",
    "print(my-input)"
   ]
  },
  {
   "cell_type": "code",
   "execution_count": null,
   "metadata": {},
   "outputs": [],
   "source": [
    "#Greeting Input from user or dynamic input\n",
    "# input\n",
    "My_input+"
   ]
  }
 ],
 "metadata": {
  "kernelspec": {
   "display_name": "Python 3",
   "language": "python",
   "name": "python3"
  },
  "language_info": {
   "codemirror_mode": {
    "name": "ipython",
    "version": 3
   },
   "file_extension": ".py",
   "mimetype": "text/x-python",
   "name": "python",
   "nbconvert_exporter": "python",
   "pygments_lexer": "ipython3",
   "version": "3.8.5"
  }
 },
 "nbformat": 4,
 "nbformat_minor": 4
}
