{
 "cells": [
  {
   "cell_type": "code",
   "execution_count": 1,
   "metadata": {},
   "outputs": [
    {
     "name": "stdout",
     "output_type": "stream",
     "text": [
      "hello world\n"
     ]
    }
   ],
   "source": [
    "print(\"hello world\")"
   ]
  },
  {
   "cell_type": "markdown",
   "metadata": {},
   "source": [
    "# literate programming\n",
    "## literate programming\n",
    "### literate programming"
   ]
  },
  {
   "cell_type": "markdown",
   "metadata": {},
   "source": [
    "* ordered List\n",
    "         1. AP\n",
    "               1.kadapa\n",
    "               2.Ananthapur\n",
    "               3.Kurnool\n",
    "         2.Ts\n",
    "                1.Kammam\n",
    "                2.Medhak\n",
    "                \n",
    "         3.TN\n",
    "                1.Kanchipuram\n",
    "                2.Baglur\n",
    " \n",
    " * Unordered List\n",
    "       -KLM\n",
    "             - CSE\n",
    "             - ECE\n",
    "             -CIVIL"
   ]
  }
 ],
 "metadata": {
  "kernelspec": {
   "display_name": "Python 3",
   "language": "python",
   "name": "python3"
  },
  "language_info": {
   "codemirror_mode": {
    "name": "ipython",
    "version": 3
   },
   "file_extension": ".py",
   "mimetype": "text/x-python",
   "name": "python",
   "nbconvert_exporter": "python",
   "pygments_lexer": "ipython3",
   "version": "3.8.5"
  }
 },
 "nbformat": 4,
 "nbformat_minor": 4
}
