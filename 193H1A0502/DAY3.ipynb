{
 "cells": [
  {
   "cell_type": "code",
   "execution_count": 1,
   "metadata": {},
   "outputs": [
    {
     "name": "stdout",
     "output_type": "stream",
     "text": [
      "enter the number6\n",
      "6 x 1 = 6\n",
      "6 x 2 = 12\n",
      "6 x 3 = 18\n",
      "6 x 4 = 24\n",
      "6 x 5 = 30\n",
      "6 x 6 = 36\n",
      "6 x 7 = 42\n",
      "6 x 8 = 48\n",
      "6 x 9 = 54\n",
      "6 x 10 = 60\n"
     ]
    }
   ],
   "source": [
    "#n=3\n",
    "n=int(input(\"enter the number\"))\n",
    "for number in range(1,11):\n",
    "    print(n,\"x\",number,\"=\",n*number)"
   ]
  },
  {
   "cell_type": "code",
   "execution_count": 7,
   "metadata": {},
   "outputs": [
    {
     "name": "stdout",
     "output_type": "stream",
     "text": [
      "enter your start value501\n",
      "enter your ending value562\n",
      "193h1a0501\n",
      "193h1a0502\n",
      "193h1a0503\n",
      "193h1a0504\n",
      "193h1a0505\n",
      "193h1a0506\n",
      "193h1a0507\n",
      "193h1a0508\n",
      "193h1a0509\n",
      "193h1a0510\n",
      "193h1a0511\n",
      "193h1a0512\n",
      "193h1a0513\n",
      "193h1a0514\n",
      "193h1a0515\n",
      "193h1a0516\n",
      "193h1a0517\n",
      "193h1a0518\n",
      "193h1a0519\n",
      "193h1a0520\n",
      "193h1a0521\n",
      "193h1a0522\n",
      "193h1a0523\n",
      "193h1a0524\n",
      "193h1a0525\n",
      "193h1a0526\n",
      "193h1a0527\n",
      "193h1a0528\n",
      "193h1a0529\n",
      "193h1a0530\n",
      "193h1a0531\n",
      "193h1a0532\n",
      "193h1a0533\n",
      "193h1a0534\n",
      "193h1a0535\n",
      "193h1a0536\n",
      "193h1a0537\n",
      "193h1a0538\n",
      "193h1a0539\n",
      "193h1a0540\n",
      "193h1a0541\n",
      "193h1a0542\n",
      "193h1a0543\n",
      "193h1a0544\n",
      "193h1a0545\n",
      "193h1a0546\n",
      "193h1a0547\n",
      "193h1a0548\n",
      "193h1a0549\n",
      "193h1a0550\n",
      "193h1a0551\n",
      "193h1a0552\n",
      "193h1a0553\n",
      "193h1a0554\n",
      "193h1a0555\n",
      "193h1a0556\n",
      "193h1a0557\n",
      "193h1a0558\n",
      "193h1a0559\n",
      "193h1a0560\n",
      "193h1a0561\n",
      "193h1a0562\n"
     ]
    }
   ],
   "source": [
    "n=562\n",
    "start=int(input(\"enter your start value\"))\n",
    "end=int(input(\"enter your ending value\"))\n",
    "for roll in range(start,end+1):\n",
    "    print(\"193h1a0\"+str(roll))\n",
    "    \n"
   ]
  },
  {
   "cell_type": "code",
   "execution_count": 11,
   "metadata": {},
   "outputs": [
    {
     "name": "stdout",
     "output_type": "stream",
     "text": [
      "10\n",
      "0 + 1 --> 1\n",
      "1 + 2 --> 3\n",
      "3 + 3 --> 6\n",
      "6 + 4 --> 10\n",
      "10 + 5 --> 15\n",
      "15 + 6 --> 21\n",
      "21 + 7 --> 28\n",
      "28 + 8 --> 36\n",
      "36 + 9 --> 45\n",
      "45 + 10 --> 55\n",
      "55\n"
     ]
    }
   ],
   "source": [
    "# input:10\n",
    "# output:55\n",
    "n=int(input())\n",
    "s=0\n",
    "for i in range(1,n+1):\n",
    "    print(s,\"+\",i,\"-->\",s+i)\n",
    "    s=s+i\n",
    "print(s)"
   ]
  },
  {
   "cell_type": "code",
   "execution_count": 13,
   "metadata": {},
   "outputs": [
    {
     "name": "stdout",
     "output_type": "stream",
     "text": [
      "5\n",
      "4\n",
      "0 + 4 --> 4\n",
      "1\n",
      "10\n",
      "1 + 0 --> 1\n",
      "2\n",
      "3\n",
      "2 + 3 --> 5\n",
      "3\n",
      "6\n",
      "3 + 6 --> 9\n",
      "4\n",
      "7\n",
      "4 + 7 --> 11\n",
      "5\n"
     ]
    }
   ],
   "source": [
    "n=int(input())\n",
    "s=0\n",
    "for i in range(n):\n",
    "    value=int(input())\n",
    "    last=value%10\n",
    "    print(s,\"+\",last,\"-->\",s+last)\n",
    "    s=s+1\n",
    "    print(s)\n",
    "    \n",
    "    "
   ]
  },
  {
   "cell_type": "code",
   "execution_count": 14,
   "metadata": {},
   "outputs": [
    {
     "name": "stdout",
     "output_type": "stream",
     "text": [
      "10\n",
      "7 9 11 13 15 17 19 21 23 25 "
     ]
    }
   ],
   "source": [
    "n=int(input())\n",
    "con=5\n",
    "for i in range(n):\n",
    "    res=con+(i+2)+i\n",
    "#print(con,\" \",\"+\",(i+2),\"+\",i)\n",
    "    print(res,end=\" \")\n",
    "    "
   ]
  },
  {
   "cell_type": "code",
   "execution_count": 17,
   "metadata": {},
   "outputs": [
    {
     "name": "stdout",
     "output_type": "stream",
     "text": [
      "8\n",
      "hello\n"
     ]
    }
   ],
   "source": [
    "a=8\n",
    "while True:\n",
    "    n=int(input())\n",
    "    if n==a:\n",
    "        print(\"hello\")\n",
    "        break\n"
   ]
  },
  {
   "cell_type": "code",
   "execution_count": 24,
   "metadata": {},
   "outputs": [
    {
     "name": "stdout",
     "output_type": "stream",
     "text": [
      "193H1A0501\n",
      "193H1A0502\n",
      "193H1A0503\n",
      "193H1A0505\n",
      "193H1A0506\n",
      "193H1A0507\n",
      "193H1A0508\n",
      "193H1A0509\n",
      "193H1A0510\n",
      "193H1A0511\n",
      "193H1A0512\n",
      "193H1A0513\n",
      "193H1A0514\n",
      "193H1A0515\n",
      "193H1A0516\n",
      "193H1A0517\n",
      "193H1A0518\n",
      "193H1A0519\n",
      "193H1A0520\n",
      "193H1A0521\n",
      "193H1A0522\n",
      "193H1A0523\n",
      "193H1A0524\n",
      "193H1A0525\n",
      "193H1A0526\n",
      "193H1A0527\n",
      "193H1A0528\n",
      "193H1A0529\n",
      "193H1A0530\n",
      "193H1A0531\n",
      "193H1A0532\n",
      "193H1A0533\n",
      "193H1A0534\n",
      "193H1A0535\n",
      "193H1A0536\n",
      "193H1A0537\n",
      "193H1A0538\n",
      "193H1A0539\n",
      "193H1A0540\n",
      "193H1A0541\n",
      "193H1A0542\n",
      "193H1A0543\n",
      "193H1A0544\n",
      "193H1A0545\n",
      "193H1A0546\n",
      "193H1A0547\n",
      "193H1A0548\n",
      "193H1A0549\n",
      "193H1A0550\n",
      "193H1A0551\n",
      "193H1A0552\n",
      "193H1A0553\n",
      "193H1A0554\n",
      "193H1A0555\n",
      "193H1A0556\n",
      "193H1A0557\n",
      "193H1A0558\n",
      "193H1A0559\n",
      "193H1A0560\n",
      "193H1A0561\n",
      "193H1A0562\n"
     ]
    }
   ],
   "source": [
    "# 504,531,547,556\n",
    "for number in range(501,563):\n",
    "    if number==504 or number==563:\n",
    "        continue\n",
    "    print(\"193H1A0\"+str(number))"
   ]
  },
  {
   "cell_type": "code",
   "execution_count": 26,
   "metadata": {},
   "outputs": [
    {
     "name": "stdout",
     "output_type": "stream",
     "text": [
      "leap year\n"
     ]
    }
   ],
   "source": [
    "#2000,2019,2001,2021,2020\n",
    "year=2000\n",
    "if year%4==0:\n",
    "    print(\"leap year\")\n",
    "else:\n",
    "    print(\"non Leapyear\")"
   ]
  },
  {
   "cell_type": "code",
   "execution_count": 27,
   "metadata": {},
   "outputs": [
    {
     "name": "stdout",
     "output_type": "stream",
     "text": [
      "non leapyear\n"
     ]
    }
   ],
   "source": [
    "year=2021\n",
    "if year%4==0:\n",
    "    print(\"leap year\")\n",
    "else:\n",
    "    print(\"non leapyear\")"
   ]
  },
  {
   "cell_type": "code",
   "execution_count": 28,
   "metadata": {},
   "outputs": [
    {
     "name": "stdout",
     "output_type": "stream",
     "text": [
      "leap year\n"
     ]
    }
   ],
   "source": [
    "year=1900\n",
    "if year%4==0:\n",
    "    print(\"leap year\")\n",
    "else:\n",
    "    print(\"non leapyear\")"
   ]
  },
  {
   "cell_type": "code",
   "execution_count": 35,
   "metadata": {},
   "outputs": [
    {
     "data": {
      "text/plain": [
       "True"
      ]
     },
     "execution_count": 35,
     "metadata": {},
     "output_type": "execute_result"
    }
   ],
   "source": [
    "def isleapyear(year):\n",
    "    if (year%400==0 or (year%100!=0 and year%4==0)):\n",
    "        return True\n",
    "#     print(\"leap year\")\n",
    "#  else:\n",
    "#     print(\"non leap year\")\n",
    "isleapyear(2000)\n"
   ]
  },
  {
   "cell_type": "code",
   "execution_count": 36,
   "metadata": {},
   "outputs": [
    {
     "name": "stdout",
     "output_type": "stream",
     "text": [
      "2000 2004 2008 2012 2016 2020 "
     ]
    }
   ],
   "source": [
    "for i in range(2000,2022):\n",
    "    if isleapyear(i):\n",
    "        print(i,end=\" \")"
   ]
  },
  {
   "cell_type": "code",
   "execution_count": null,
   "metadata": {},
   "outputs": [],
   "source": [
    "def iseven(n):\n",
    "    if n%2==0:\n",
    "        return True\n",
    "    "
   ]
  },
  {
   "cell_type": "code",
   "execution_count": 37,
   "metadata": {},
   "outputs": [
    {
     "ename": "NameError",
     "evalue": "name 'iseven' is not defined",
     "output_type": "error",
     "traceback": [
      "\u001b[1;31m---------------------------------------------------------------------------\u001b[0m",
      "\u001b[1;31mNameError\u001b[0m                                 Traceback (most recent call last)",
      "\u001b[1;32m<ipython-input-37-e5b49978edb6>\u001b[0m in \u001b[0;36m<module>\u001b[1;34m\u001b[0m\n\u001b[0;32m      1\u001b[0m \u001b[1;32mfor\u001b[0m \u001b[0mi\u001b[0m \u001b[1;32min\u001b[0m \u001b[0mrange\u001b[0m \u001b[1;33m(\u001b[0m\u001b[1;36m1\u001b[0m\u001b[1;33m,\u001b[0m\u001b[1;36m20\u001b[0m\u001b[1;33m)\u001b[0m\u001b[1;33m:\u001b[0m\u001b[1;33m\u001b[0m\u001b[1;33m\u001b[0m\u001b[0m\n\u001b[1;32m----> 2\u001b[1;33m     \u001b[1;32mif\u001b[0m \u001b[0miseven\u001b[0m\u001b[1;33m(\u001b[0m\u001b[0mi\u001b[0m\u001b[1;33m)\u001b[0m\u001b[1;33m:\u001b[0m\u001b[1;33m\u001b[0m\u001b[1;33m\u001b[0m\u001b[0m\n\u001b[0m\u001b[0;32m      3\u001b[0m         \u001b[0mprint\u001b[0m\u001b[1;33m(\u001b[0m\u001b[0mi\u001b[0m\u001b[1;33m,\u001b[0m\u001b[0mend\u001b[0m\u001b[1;33m=\u001b[0m\u001b[1;34m\" \"\u001b[0m\u001b[1;33m)\u001b[0m\u001b[1;33m\u001b[0m\u001b[1;33m\u001b[0m\u001b[0m\n",
      "\u001b[1;31mNameError\u001b[0m: name 'iseven' is not defined"
     ]
    }
   ],
   "source": [
    "for i in range (1,20):\n",
    "    if iseven(i):\n",
    "        print(i,end=\" \")"
   ]
  },
  {
   "cell_type": "code",
   "execution_count": 38,
   "metadata": {},
   "outputs": [
    {
     "data": {
      "text/plain": [
       "False"
      ]
     },
     "execution_count": 38,
     "metadata": {},
     "output_type": "execute_result"
    }
   ],
   "source": [
    "def isperfect(n):\n",
    "    s=0\n",
    "    for i in range(1,n):\n",
    "        if n%i==0:\n",
    "            s=s+i\n",
    "    if n==s:\n",
    "         return True\n",
    "    else:\n",
    "        return False\n",
    "isperfect(30)"
   ]
  },
  {
   "cell_type": "code",
   "execution_count": null,
   "metadata": {},
   "outputs": [
    {
     "name": "stdout",
     "output_type": "stream",
     "text": [
      "6 28 496 8128 "
     ]
    }
   ],
   "source": [
    "for i in range(1,100001):\n",
    "    if isperfect(i):\n",
    "        print(i,end=\" \")\n",
    "    "
   ]
  },
  {
   "cell_type": "code",
   "execution_count": 2,
   "metadata": {},
   "outputs": [
    {
     "ename": "NameError",
     "evalue": "name 'isprime' is not defined",
     "output_type": "error",
     "traceback": [
      "\u001b[1;31m---------------------------------------------------------------------------\u001b[0m",
      "\u001b[1;31mNameError\u001b[0m                                 Traceback (most recent call last)",
      "\u001b[1;32m<ipython-input-2-667b4ac930a0>\u001b[0m in \u001b[0;36m<module>\u001b[1;34m\u001b[0m\n\u001b[1;32m----> 1\u001b[1;33m \u001b[0misprime\u001b[0m\u001b[1;33m(\u001b[0m\u001b[1;36m17\u001b[0m\u001b[1;33m)\u001b[0m\u001b[1;33m\u001b[0m\u001b[1;33m\u001b[0m\u001b[0m\n\u001b[0m",
      "\u001b[1;31mNameError\u001b[0m: name 'isprime' is not defined"
     ]
    }
   ],
   "source": [
    "isprime(17)\n"
   ]
  },
  {
   "cell_type": "code",
   "execution_count": 3,
   "metadata": {},
   "outputs": [
    {
     "ename": "NameError",
     "evalue": "name 'isprime' is not defined",
     "output_type": "error",
     "traceback": [
      "\u001b[1;31m---------------------------------------------------------------------------\u001b[0m",
      "\u001b[1;31mNameError\u001b[0m                                 Traceback (most recent call last)",
      "\u001b[1;32m<ipython-input-3-9c724d06e433>\u001b[0m in \u001b[0;36m<module>\u001b[1;34m\u001b[0m\n\u001b[0;32m      1\u001b[0m \u001b[1;31m#prime series - last digit is 1\u001b[0m\u001b[1;33m\u001b[0m\u001b[1;33m\u001b[0m\u001b[1;33m\u001b[0m\u001b[0m\n\u001b[0;32m      2\u001b[0m \u001b[1;32mfor\u001b[0m \u001b[0mi\u001b[0m \u001b[1;32min\u001b[0m \u001b[0mrange\u001b[0m\u001b[1;33m(\u001b[0m\u001b[1;36m1\u001b[0m\u001b[1;33m,\u001b[0m\u001b[1;36m100\u001b[0m\u001b[1;33m)\u001b[0m\u001b[1;33m:\u001b[0m\u001b[1;33m\u001b[0m\u001b[1;33m\u001b[0m\u001b[0m\n\u001b[1;32m----> 3\u001b[1;33m     \u001b[1;32mif\u001b[0m \u001b[0misprime\u001b[0m\u001b[1;33m(\u001b[0m\u001b[0mi\u001b[0m\u001b[1;33m)\u001b[0m\u001b[1;33m:\u001b[0m\u001b[1;33m\u001b[0m\u001b[1;33m\u001b[0m\u001b[0m\n\u001b[0m\u001b[0;32m      4\u001b[0m         \u001b[1;32mif\u001b[0m \u001b[0mi\u001b[0m\u001b[1;33m%\u001b[0m\u001b[1;36m10\u001b[0m\u001b[1;33m==\u001b[0m\u001b[1;36m1\u001b[0m\u001b[1;33m:\u001b[0m\u001b[1;33m\u001b[0m\u001b[1;33m\u001b[0m\u001b[0m\n\u001b[0;32m      5\u001b[0m             \u001b[0mprint\u001b[0m\u001b[1;33m(\u001b[0m\u001b[0mi\u001b[0m\u001b[1;33m,\u001b[0m\u001b[0mend\u001b[0m\u001b[1;33m=\u001b[0m\u001b[1;34m\" \"\u001b[0m\u001b[1;33m)\u001b[0m\u001b[1;33m\u001b[0m\u001b[1;33m\u001b[0m\u001b[0m\n",
      "\u001b[1;31mNameError\u001b[0m: name 'isprime' is not defined"
     ]
    }
   ],
   "source": [
    "#prime series - last digit is 1\n",
    "for i in range(1,100):\n",
    "    if isprime(i):\n",
    "        if i%10==1:\n",
    "            print(i,end=\" \")"
   ]
  },
  {
   "cell_type": "code",
   "execution_count": 5,
   "metadata": {},
   "outputs": [
    {
     "name": "stdout",
     "output_type": "stream",
     "text": [
      "APSSDC\n"
     ]
    }
   ],
   "source": [
    "s='klm@123'\n",
    "type(s)\n",
    "ss=\"APSSDC\"\n",
    "print(ss)"
   ]
  },
  {
   "cell_type": "code",
   "execution_count": 7,
   "metadata": {},
   "outputs": [
    {
     "name": "stdout",
     "output_type": "stream",
     "text": [
      "['__add__', '__class__', '__contains__', '__delattr__', '__dir__', '__doc__', '__eq__', '__format__', '__ge__', '__getattribute__', '__getitem__', '__getnewargs__', '__gt__', '__hash__', '__init__', '__init_subclass__', '__iter__', '__le__', '__len__', '__lt__', '__mod__', '__mul__', '__ne__', '__new__', '__reduce__', '__reduce_ex__', '__repr__', '__rmod__', '__rmul__', '__setattr__', '__sizeof__', '__str__', '__subclasshook__', 'capitalize', 'casefold', 'center', 'count', 'encode', 'endswith', 'expandtabs', 'find', 'format', 'format_map', 'index', 'isalnum', 'isalpha', 'isascii', 'isdecimal', 'isdigit', 'isidentifier', 'islower', 'isnumeric', 'isprintable', 'isspace', 'istitle', 'isupper', 'join', 'ljust', 'lower', 'lstrip', 'maketrans', 'partition', 'replace', 'rfind', 'rindex', 'rjust', 'rpartition', 'rsplit', 'rstrip', 'split', 'splitlines', 'startswith', 'strip', 'swapcase', 'title', 'translate', 'upper', 'zfill']\n"
     ]
    }
   ],
   "source": [
    "print(dir(s))"
   ]
  },
  {
   "cell_type": "code",
   "execution_count": 8,
   "metadata": {},
   "outputs": [
    {
     "data": {
      "text/plain": [
       "'klm@123'"
      ]
     },
     "execution_count": 8,
     "metadata": {},
     "output_type": "execute_result"
    }
   ],
   "source": [
    "s"
   ]
  },
  {
   "cell_type": "code",
   "execution_count": 9,
   "metadata": {},
   "outputs": [
    {
     "data": {
      "text/plain": [
       "7"
      ]
     },
     "execution_count": 9,
     "metadata": {},
     "output_type": "execute_result"
    }
   ],
   "source": [
    "#finding the length of the string\n",
    "len(s)"
   ]
  },
  {
   "cell_type": "code",
   "execution_count": 10,
   "metadata": {},
   "outputs": [
    {
     "data": {
      "text/plain": [
       "True"
      ]
     },
     "execution_count": 10,
     "metadata": {},
     "output_type": "execute_result"
    }
   ],
   "source": [
    "s.islower()"
   ]
  },
  {
   "cell_type": "code",
   "execution_count": 12,
   "metadata": {},
   "outputs": [
    {
     "data": {
      "text/plain": [
       "False"
      ]
     },
     "execution_count": 12,
     "metadata": {},
     "output_type": "execute_result"
    }
   ],
   "source": [
    "ss.islower()\n"
   ]
  },
  {
   "cell_type": "code",
   "execution_count": 13,
   "metadata": {},
   "outputs": [
    {
     "data": {
      "text/plain": [
       "True"
      ]
     },
     "execution_count": 13,
     "metadata": {},
     "output_type": "execute_result"
    }
   ],
   "source": [
    "ss.isupper()"
   ]
  },
  {
   "cell_type": "code",
   "execution_count": 15,
   "metadata": {},
   "outputs": [
    {
     "data": {
      "text/plain": [
       "'m'"
      ]
     },
     "execution_count": 15,
     "metadata": {},
     "output_type": "execute_result"
    }
   ],
   "source": [
    "s[2]"
   ]
  },
  {
   "cell_type": "code",
   "execution_count": 16,
   "metadata": {},
   "outputs": [
    {
     "data": {
      "text/plain": [
       "False"
      ]
     },
     "execution_count": 16,
     "metadata": {},
     "output_type": "execute_result"
    }
   ],
   "source": [
    "s.isnumeric()\n",
    "s.isspace()"
   ]
  },
  {
   "cell_type": "code",
   "execution_count": null,
   "metadata": {},
   "outputs": [],
   "source": [
    "# positive indexing\n",
    "data[0]\n",
    "data[1]\n",
    "len(data)\n",
    "data[len(data)-1]\n",
    "#negative indexing\n",
    "data[-1]\n",
    "data[-2]\n",
    "data[-(len(data))]\n",
    "data[-(len(data))]\n",
    "# middle character\n",
    "data [len(data)//2]"
   ]
  },
  {
   "cell_type": "code",
   "execution_count": 17,
   "metadata": {},
   "outputs": [
    {
     "name": "stdout",
     "output_type": "stream",
     "text": [
      "C\n",
      "CD\n",
      "CDS\n",
      "CDSS\n",
      "CDSSP\n",
      "CDSSPA\n",
      "CDSSPA-\n",
      "CDSSPA-M\n",
      "CDSSPA-ML\n",
      "CDSSPA-MLK\n"
     ]
    }
   ],
   "source": [
    "data=\"KLM-APSSDC\"\n",
    "res=\"\"\n",
    "for i in range(len(data)-1,-1,-1):\n",
    "    res=res+data[i]\n",
    "    print(res)"
   ]
  },
  {
   "cell_type": "code",
   "execution_count": 18,
   "metadata": {},
   "outputs": [
    {
     "data": {
      "text/plain": [
       "'KLMKLMKLM'"
      ]
     },
     "execution_count": 18,
     "metadata": {},
     "output_type": "execute_result"
    }
   ],
   "source": [
    "data=\"KLM\"\n",
    "data*3"
   ]
  },
  {
   "cell_type": "code",
   "execution_count": null,
   "metadata": {},
   "outputs": [],
   "source": []
  }
 ],
 "metadata": {
  "kernelspec": {
   "display_name": "Python 3",
   "language": "python",
   "name": "python3"
  },
  "language_info": {
   "codemirror_mode": {
    "name": "ipython",
    "version": 3
   },
   "file_extension": ".py",
   "mimetype": "text/x-python",
   "name": "python",
   "nbconvert_exporter": "python",
   "pygments_lexer": "ipython3",
   "version": "3.8.5"
  }
 },
 "nbformat": 4,
 "nbformat_minor": 4
}
