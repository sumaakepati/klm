{
 "cells": [
  {
   "cell_type": "code",
   "execution_count": 7,
   "metadata": {},
   "outputs": [
    {
     "data": {
      "text/plain": [
       "'1234512345123451234512345'"
      ]
     },
     "execution_count": 7,
     "metadata": {},
     "output_type": "execute_result"
    }
   ],
   "source": [
    "n='12345'*5\n",
    "n"
   ]
  },
  {
   "cell_type": "code",
   "execution_count": 14,
   "metadata": {},
   "outputs": [
    {
     "name": "stdout",
     "output_type": "stream",
     "text": [
      "['__add__', '__class__', '__contains__', '__delattr__', '__dir__', '__doc__', '__eq__', '__format__', '__ge__', '__getattribute__', '__getitem__', '__getnewargs__', '__gt__', '__hash__', '__init__', '__init_subclass__', '__iter__', '__le__', '__len__', '__lt__', '__mod__', '__mul__', '__ne__', '__new__', '__reduce__', '__reduce_ex__', '__repr__', '__rmod__', '__rmul__', '__setattr__', '__sizeof__', '__str__', '__subclasshook__', 'capitalize', 'casefold', 'center', 'count', 'encode', 'endswith', 'expandtabs', 'find', 'format', 'format_map', 'index', 'isalnum', 'isalpha', 'isascii', 'isdecimal', 'isdigit', 'isidentifier', 'islower', 'isnumeric', 'isprintable', 'isspace', 'istitle', 'isupper', 'join', 'ljust', 'lower', 'lstrip', 'maketrans', 'partition', 'replace', 'rfind', 'rindex', 'rjust', 'rpartition', 'rsplit', 'rstrip', 'split', 'splitlines', 'startswith', 'strip', 'swapcase', 'title', 'translate', 'upper', 'zfill']\n"
     ]
    }
   ],
   "source": [
    "print(dir(n))"
   ]
  },
  {
   "cell_type": "code",
   "execution_count": 8,
   "metadata": {},
   "outputs": [
    {
     "data": {
      "text/plain": [
       "'123451234512345123451234'"
      ]
     },
     "execution_count": 8,
     "metadata": {},
     "output_type": "execute_result"
    }
   ],
   "source": [
    "n[:-1]# except last char"
   ]
  },
  {
   "cell_type": "code",
   "execution_count": 9,
   "metadata": {},
   "outputs": [
    {
     "data": {
      "text/plain": [
       "'55555'"
      ]
     },
     "execution_count": 9,
     "metadata": {},
     "output_type": "execute_result"
    }
   ],
   "source": [
    "n[::-5]# getting the 5th char"
   ]
  },
  {
   "cell_type": "code",
   "execution_count": 12,
   "metadata": {},
   "outputs": [],
   "source": [
    "s=\"suma\""
   ]
  },
  {
   "cell_type": "code",
   "execution_count": 13,
   "metadata": {},
   "outputs": [
    {
     "data": {
      "text/plain": [
       "'suma'"
      ]
     },
     "execution_count": 13,
     "metadata": {},
     "output_type": "execute_result"
    }
   ],
   "source": [
    "s"
   ]
  },
  {
   "cell_type": "code",
   "execution_count": 15,
   "metadata": {},
   "outputs": [
    {
     "data": {
      "text/plain": [
       "-1"
      ]
     },
     "execution_count": 15,
     "metadata": {},
     "output_type": "execute_result"
    }
   ],
   "source": [
    "s.find('t')#if char not found with in the string return"
   ]
  },
  {
   "cell_type": "code",
   "execution_count": 16,
   "metadata": {},
   "outputs": [
    {
     "data": {
      "text/plain": [
       "2"
      ]
     },
     "execution_count": 16,
     "metadata": {},
     "output_type": "execute_result"
    }
   ],
   "source": [
    "s.find('m')"
   ]
  },
  {
   "cell_type": "code",
   "execution_count": 17,
   "metadata": {},
   "outputs": [
    {
     "data": {
      "text/plain": [
       "'klm ksrm korm apssdc'"
      ]
     },
     "execution_count": 17,
     "metadata": {},
     "output_type": "execute_result"
    }
   ],
   "source": [
    "s1=\"klm ksrm korm apssdc\"\n",
    "s1"
   ]
  },
  {
   "cell_type": "code",
   "execution_count": 18,
   "metadata": {},
   "outputs": [
    {
     "data": {
      "text/plain": [
       "True"
      ]
     },
     "execution_count": 18,
     "metadata": {},
     "output_type": "execute_result"
    }
   ],
   "source": [
    "s1.startswith(\"klm\")"
   ]
  },
  {
   "cell_type": "code",
   "execution_count": 19,
   "metadata": {},
   "outputs": [
    {
     "data": {
      "text/plain": [
       "True"
      ]
     },
     "execution_count": 19,
     "metadata": {},
     "output_type": "execute_result"
    }
   ],
   "source": [
    "s1.endswith(\"apssdc\")"
   ]
  },
  {
   "cell_type": "code",
   "execution_count": 20,
   "metadata": {},
   "outputs": [
    {
     "data": {
      "text/plain": [
       "['klm', 'ksrm', 'korm', 'apssdc']"
      ]
     },
     "execution_count": 20,
     "metadata": {},
     "output_type": "execute_result"
    }
   ],
   "source": [
    "#string spling\n",
    "s1.split()"
   ]
  },
  {
   "cell_type": "code",
   "execution_count": 24,
   "metadata": {},
   "outputs": [
    {
     "name": "stdout",
     "output_type": "stream",
     "text": [
      "klm sroapdc\n"
     ]
    }
   ],
   "source": [
    "unq=''\n",
    "for char in s1:\n",
    "    if char not in unq:\n",
    "        unq=unq+char\n",
    "print(unq)"
   ]
  },
  {
   "cell_type": "code",
   "execution_count": 7,
   "metadata": {},
   "outputs": [
    {
     "data": {
      "text/plain": [
       "'andrapradesh'"
      ]
     },
     "execution_count": 7,
     "metadata": {},
     "output_type": "execute_result"
    }
   ],
   "source": [
    "#join\n",
    "name='andrapradesh'\n",
    "name"
   ]
  },
  {
   "cell_type": "code",
   "execution_count": 8,
   "metadata": {},
   "outputs": [
    {
     "data": {
      "text/plain": [
       "['andrapradesh']"
      ]
     },
     "execution_count": 8,
     "metadata": {},
     "output_type": "execute_result"
    }
   ],
   "source": [
    "name=name.split()\n",
    "name"
   ]
  },
  {
   "cell_type": "code",
   "execution_count": 9,
   "metadata": {},
   "outputs": [],
   "source": [
    "movie=\"uppena@vishnavtejkrack@raviteja5mail@harshitmaster@vijaythalapathy\"\n",
    "# small_ letters=48\n",
    "# crop_ letters=5\n",
    "# specil_chars=4\n",
    "# digits=4"
   ]
  },
  {
   "cell_type": "code",
   "execution_count": 10,
   "metadata": {},
   "outputs": [
    {
     "data": {
      "text/plain": [
       "66"
      ]
     },
     "execution_count": 10,
     "metadata": {},
     "output_type": "execute_result"
    }
   ],
   "source": [
    "len(movie)"
   ]
  },
  {
   "cell_type": "code",
   "execution_count": 11,
   "metadata": {},
   "outputs": [
    {
     "data": {
      "text/plain": [
       "66.13"
      ]
     },
     "execution_count": 11,
     "metadata": {},
     "output_type": "execute_result"
    }
   ],
   "source": [
    "66.13"
   ]
  },
  {
   "cell_type": "code",
   "execution_count": 13,
   "metadata": {},
   "outputs": [
    {
     "data": {
      "text/plain": [
       "False"
      ]
     },
     "execution_count": 13,
     "metadata": {},
     "output_type": "execute_result"
    }
   ],
   "source": [
    "movie.isdigit()"
   ]
  },
  {
   "cell_type": "code",
   "execution_count": 14,
   "metadata": {},
   "outputs": [
    {
     "name": "stdout",
     "output_type": "stream",
     "text": [
      "5 --> 1\n"
     ]
    }
   ],
   "source": [
    "caps=''\n",
    "smalls=''\n",
    "spcl=''\n",
    "digits=''\n",
    "dcount=0\n",
    "for char in movie:\n",
    "    if char.isdigit():\n",
    "        dcount=dcount+1\n",
    "        digits=digits+char\n",
    "print(digits,\"-->\",dcount)"
   ]
  },
  {
   "cell_type": "code",
   "execution_count": 15,
   "metadata": {},
   "outputs": [
    {
     "name": "stdout",
     "output_type": "stream",
     "text": [
      "  --> 0\n",
      "5  --> 1\n"
     ]
    }
   ],
   "source": [
    "caps=''\n",
    "smalls=''\n",
    "spcl=''\n",
    "digits=''\n",
    "dcount=0\n",
    "ccount=0\n",
    "for char in movie:\n",
    "    if char.isdigit():\n",
    "        dcount=dcount+1\n",
    "        digits=digits+char\n",
    "    elif char.isupper():\n",
    "        caps=caps+char\n",
    "        ccount=ccount+1\n",
    "print(caps,\" -->\",ccount)\n",
    "print(digits,\" -->\",dcount)"
   ]
  },
  {
   "cell_type": "code",
   "execution_count": 16,
   "metadata": {},
   "outputs": [
    {
     "name": "stdout",
     "output_type": "stream",
     "text": [
      "@@@@  --> 4\n",
      "uppenavishnavtejkrackravitejamailharshitmastervijaythalapathy  --> 61\n",
      "  --> 0\n",
      "5  --> 1\n"
     ]
    }
   ],
   "source": [
    "caps=''\n",
    "smalls=''\n",
    "spcl=''\n",
    "digits=''\n",
    "dcount=0\n",
    "ccount=0\n",
    "scount=0\n",
    "spcount=0\n",
    "for char in movie:\n",
    "    if char.isdigit():\n",
    "        dcount=dcount+1\n",
    "        digits=digits+char\n",
    "    elif char.isupper():\n",
    "        caps=caps+char\n",
    "        ccount=ccount+1\n",
    "    elif char.islower():\n",
    "        scount=scount+1\n",
    "        smalls=smalls+char\n",
    "    else:\n",
    "        spcount=spcount+1\n",
    "        spcl=spcl+char\n",
    "print(spcl,\" -->\",spcount)\n",
    "print(smalls,\" -->\",scount)\n",
    "print(caps,\" -->\",ccount)\n",
    "print(digits,\" -->\",dcount)"
   ]
  },
  {
   "cell_type": "code",
   "execution_count": null,
   "metadata": {},
   "outputs": [],
   "source": [
    "# input:\"CSE3ECE5CIV3\"\n",
    "# output:\"CSECSECSE\"\n",
    "#         \"ECEECEECEECECECE\"\n",
    "#         \"CIVCIVCIV\""
   ]
  },
  {
   "cell_type": "code",
   "execution_count": null,
   "metadata": {},
   "outputs": [],
   "source": [
    "data=\"CSE3ECE5CIV3\"\n",
    "char=\"\"\n",
    "intg=\"\"\n",
    "for ch in data:\n",
    "    if ch.isdigit():\n",
    "        intg=intg+ch\n",
    "#print(char)\n",
    "#print(intg)\n",
    "#c=0\n",
    "#res=''\n",
    "#res2=''\n",
    "# for i in range(0,len(char)):\n",
    "   if c==2:\n",
    "        c=0\n",
    "        print(res*intg[res2])\n",
    "        res=''\n",
    "    else:\n",
    "        res=res+char[i]\n",
    "      \n",
    "    \n",
    "\n",
    "\n",
    "        "
   ]
  },
  {
   "cell_type": "code",
   "execution_count": 19,
   "metadata": {},
   "outputs": [
    {
     "name": "stdout",
     "output_type": "stream",
     "text": [
      "CSEKLMCSEKLMCSEKLM\n",
      "ECEKLMECEKLMECEKLMECEKLMECEKLM\n",
      "CIVKLMCIVKLMCIVKLM\n"
     ]
    }
   ],
   "source": [
    "data=\"CSE-KLM3ECE-KLM5CIV-KLM3\"\n",
    "s_data=''\n",
    "for ch in data:\n",
    "    if ch.isalpha():\n",
    "        s_data=s_data+ch\n",
    "    if ch.isdigit():\n",
    "        print(s_data*int(ch))\n",
    "        s_data=''"
   ]
  },
  {
   "cell_type": "code",
   "execution_count": 18,
   "metadata": {},
   "outputs": [
    {
     "name": "stdout",
     "output_type": "stream",
     "text": [
      "amus annasarp mlk apadak \n"
     ]
    }
   ],
   "source": [
    "data=\"suma prasanna klm kadapa\"\n",
    "data=data.split()\n",
    "data2=''\n",
    "for word in data:\n",
    "    data2=data2+word[::-1]+\" \"\n",
    "print(data2)"
   ]
  },
  {
   "cell_type": "code",
   "execution_count": 21,
   "metadata": {},
   "outputs": [
    {
     "name": "stdout",
     "output_type": "stream",
     "text": [
      "[1, 'suma', 'c', 1.52]\n"
     ]
    },
    {
     "data": {
      "text/plain": [
       "list"
      ]
     },
     "execution_count": 21,
     "metadata": {},
     "output_type": "execute_result"
    }
   ],
   "source": [
    "lst=[1,\"suma\",'c',1.52]\n",
    "print(lst)\n",
    "type(lst)"
   ]
  },
  {
   "cell_type": "code",
   "execution_count": 22,
   "metadata": {},
   "outputs": [
    {
     "name": "stdout",
     "output_type": "stream",
     "text": [
      "['__add__', '__class__', '__contains__', '__delattr__', '__delitem__', '__dir__', '__doc__', '__eq__', '__format__', '__ge__', '__getattribute__', '__getitem__', '__gt__', '__hash__', '__iadd__', '__imul__', '__init__', '__init_subclass__', '__iter__', '__le__', '__len__', '__lt__', '__mul__', '__ne__', '__new__', '__reduce__', '__reduce_ex__', '__repr__', '__reversed__', '__rmul__', '__setattr__', '__setitem__', '__sizeof__', '__str__', '__subclasshook__', 'append', 'clear', 'copy', 'count', 'extend', 'index', 'insert', 'pop', 'remove', 'reverse', 'sort']\n"
     ]
    }
   ],
   "source": [
    "print(dir(list))"
   ]
  },
  {
   "cell_type": "code",
   "execution_count": 23,
   "metadata": {},
   "outputs": [],
   "source": [
    "#indexing\n",
    "lst=[1,2,3,4,5,6]"
   ]
  },
  {
   "cell_type": "code",
   "execution_count": 24,
   "metadata": {},
   "outputs": [
    {
     "name": "stdout",
     "output_type": "stream",
     "text": [
      "[1, 2, 3, 4, 5, 6]\n"
     ]
    }
   ],
   "source": [
    "print(lst)"
   ]
  },
  {
   "cell_type": "code",
   "execution_count": 25,
   "metadata": {},
   "outputs": [
    {
     "data": {
      "text/plain": [
       "4"
      ]
     },
     "execution_count": 25,
     "metadata": {},
     "output_type": "execute_result"
    }
   ],
   "source": [
    "#positive indexing\n",
    "lst[0]\n",
    "lst[1]\n",
    "lst[len(lst)-1]\n",
    "#negative indexing\n",
    "lst[-1]\n",
    "lst[-2]\n",
    "lst[-(len(lst)//2)]\n"
   ]
  },
  {
   "cell_type": "code",
   "execution_count": 27,
   "metadata": {},
   "outputs": [
    {
     "data": {
      "text/plain": [
       "[3, 4, 5]"
      ]
     },
     "execution_count": 27,
     "metadata": {},
     "output_type": "execute_result"
    }
   ],
   "source": [
    "#slicing\n",
    "# positive slicing\n",
    "lst[1:3]\n",
    "lst[1:]\n",
    "lst[:4]\n",
    "lst[:]\n",
    "#or\n",
    "lst[0:]\n",
    "#negative slicing\n",
    "lst[:-1]\n",
    "lst[-4:-1]\n",
    "lst[-3:]\n",
    "\n",
    "#positive slicing\n",
    "lst[2:-1]\n",
    "lst[-4:5]"
   ]
  },
  {
   "cell_type": "code",
   "execution_count": 31,
   "metadata": {},
   "outputs": [
    {
     "name": "stdout",
     "output_type": "stream",
     "text": [
      "20\n"
     ]
    }
   ],
   "source": [
    "#append\n",
    "# i am storing even numbers for given range\n",
    "evenlist=[]\n",
    "n=int(input())\n",
    "for i in range(n):\n",
    "    if 1%2==0:\n",
    "        evenlist.append(i)\n",
    "    \n"
   ]
  },
  {
   "cell_type": "code",
   "execution_count": 32,
   "metadata": {},
   "outputs": [
    {
     "name": "stdout",
     "output_type": "stream",
     "text": [
      "[]\n"
     ]
    }
   ],
   "source": [
    "primelist=[]\n",
    "\n",
    "print(primelist)"
   ]
  },
  {
   "cell_type": "code",
   "execution_count": null,
   "metadata": {},
   "outputs": [],
   "source": [
    "# input:\"APSSDCPYTHON\"\n",
    "# output:\"PSCYHN\""
   ]
  },
  {
   "cell_type": "code",
   "execution_count": 35,
   "metadata": {},
   "outputs": [
    {
     "name": "stdout",
     "output_type": "stream",
     "text": [
      "apssdcpython\n",
      "pscyhn\n"
     ]
    }
   ],
   "source": [
    "data=input()\n",
    "l=[]\n",
    "for i in range(1,len(data),2):\n",
    "    l.append(data[i])\n",
    "# print(l)\n",
    "fdata=''.join(l)\n",
    "print(fdata)"
   ]
  },
  {
   "cell_type": "code",
   "execution_count": null,
   "metadata": {},
   "outputs": [],
   "source": [
    "# input:APSSDC\n",
    "# output:BQTTED"
   ]
  },
  {
   "cell_type": "code",
   "execution_count": 36,
   "metadata": {},
   "outputs": [
    {
     "data": {
      "text/plain": [
       "'b'"
      ]
     },
     "execution_count": 36,
     "metadata": {},
     "output_type": "execute_result"
    }
   ],
   "source": [
    "chr(98)"
   ]
  },
  {
   "cell_type": "code",
   "execution_count": 39,
   "metadata": {},
   "outputs": [
    {
     "data": {
      "text/plain": [
       "97"
      ]
     },
     "execution_count": 39,
     "metadata": {},
     "output_type": "execute_result"
    }
   ],
   "source": [
    "ord('a')"
   ]
  },
  {
   "cell_type": "code",
   "execution_count": 42,
   "metadata": {},
   "outputs": [
    {
     "name": "stdout",
     "output_type": "stream",
     "text": [
      "APSSDC\n",
      "A --> 65\n",
      "P --> 80\n",
      "S --> 83\n",
      "S --> 83\n",
      "D --> 68\n",
      "C --> 67\n"
     ]
    }
   ],
   "source": [
    "data=input()\n",
    "list=[]\n",
    "for ch in data:\n",
    "    print(ch,\"-->\",ord(ch))"
   ]
  },
  {
   "cell_type": "code",
   "execution_count": 43,
   "metadata": {},
   "outputs": [
    {
     "name": "stdout",
     "output_type": "stream",
     "text": [
      "APSSDC\n",
      "A --> 65\n",
      "P --> 80\n",
      "S --> 83\n",
      "S --> 83\n",
      "D --> 68\n",
      "C --> 67\n",
      "['B', 'Q', 'T', 'T', 'E', 'D']\n",
      "BQTTED\n"
     ]
    }
   ],
   "source": [
    "data=input()\n",
    "list=[]\n",
    "for ch in data:\n",
    "    print(ch,\"-->\",ord(ch))\n",
    "    lst.append(chr(ord(ch)+1))\n",
    "print(lst)\n",
    "print(''.join(lst))"
   ]
  },
  {
   "cell_type": "code",
   "execution_count": 44,
   "metadata": {},
   "outputs": [
    {
     "name": "stdout",
     "output_type": "stream",
     "text": [
      "APSSDC\n",
      "A --> 65\n",
      "P --> 80\n",
      "S --> 83\n",
      "S --> 83\n",
      "D --> 68\n",
      "C --> 67\n",
      "['B', 'Q', 'T', 'T', 'E', 'D', 'C', 'R', 'U', 'U', 'F', 'E']\n",
      "BQTTEDCRUUFE\n"
     ]
    }
   ],
   "source": [
    "#input=APSSDC\n",
    "#output=CRUUFE\n",
    "data=input()\n",
    "list=[]\n",
    "for ch in data:\n",
    "    print(ch,\"-->\",ord(ch))\n",
    "    lst.append(chr(ord(ch)+2))\n",
    "print(lst)\n",
    "print(''.join(lst))"
   ]
  },
  {
   "cell_type": "code",
   "execution_count": 45,
   "metadata": {},
   "outputs": [],
   "source": [
    "lst.clear()"
   ]
  },
  {
   "cell_type": "code",
   "execution_count": 47,
   "metadata": {},
   "outputs": [
    {
     "name": "stdout",
     "output_type": "stream",
     "text": [
      "12\n"
     ]
    }
   ],
   "source": [
    "l1=[1,2,3,4,5,6]\n",
    "l2=l1.copy\n",
    "print(12)"
   ]
  },
  {
   "cell_type": "code",
   "execution_count": 48,
   "metadata": {},
   "outputs": [
    {
     "data": {
      "text/plain": [
       "[1, 2, 3, 4, 5, 6]"
      ]
     },
     "execution_count": 48,
     "metadata": {},
     "output_type": "execute_result"
    }
   ],
   "source": [
    "l1"
   ]
  },
  {
   "cell_type": "code",
   "execution_count": null,
   "metadata": {},
   "outputs": [],
   "source": []
  }
 ],
 "metadata": {
  "kernelspec": {
   "display_name": "Python 3",
   "language": "python",
   "name": "python3"
  },
  "language_info": {
   "codemirror_mode": {
    "name": "ipython",
    "version": 3
   },
   "file_extension": ".py",
   "mimetype": "text/x-python",
   "name": "python",
   "nbconvert_exporter": "python",
   "pygments_lexer": "ipython3",
   "version": "3.8.5"
  }
 },
 "nbformat": 4,
 "nbformat_minor": 4
}
